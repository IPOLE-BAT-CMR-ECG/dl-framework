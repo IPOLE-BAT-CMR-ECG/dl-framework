{
 "cells": [
  {
   "cell_type": "code",
   "execution_count": null,
   "metadata": {},
   "outputs": [],
   "source": [
    "import sys\n",
    "from pathlib import Path\n",
    "import pandas as pd\n",
    "\n",
    "project_root = str(Path().absolute().parent)\n",
    "sys.path.append(project_root)\n",
    "\n",
    "from src.data.unified import UnifiedDataset\n",
    "from src.data.dataset import DatasetModality\n",
    "\n",
    "data_root = Path(project_root) / \"data\"\n",
    "data = UnifiedDataset(data_root, modality=DatasetModality.CMR, dataset_key=\"acdc\")\n",
    "\n",
    "records = data.get_all_record_ids()\n",
    "df = pd.DataFrame(\n",
    "    [\n",
    "        {**data.metadata_store.get(record_id), \"record_id\": record_id}\n",
    "        for record_id in records\n",
    "    ]\n",
    ")\n",
    "df[\"labels\"] = [\n",
    "    data[record_id].preprocessed_record.target_labels for record_id in records\n",
    "]\n",
    "\n",
    "del data\n",
    "df.head()"
   ]
  },
  {
   "cell_type": "code",
   "execution_count": null,
   "metadata": {},
   "outputs": [],
   "source": [
    "# calc bmi from weight and height\n",
    "df[\"bmi\"] = df[\"weight\"] / (df[\"height\"] / 100) ** 2\n",
    "df[\"bmi\"] = df[\"bmi\"].round(2)\n",
    "\n",
    "# get bmi stats\n",
    "bmi_stats = df[\"bmi\"].describe().round(2)\n",
    "bmi_stats"
   ]
  },
  {
   "cell_type": "code",
   "execution_count": null,
   "metadata": {},
   "outputs": [],
   "source": [
    "df[\"weight\"].describe().round(2), df[\"height\"].describe().round(2)"
   ]
  },
  {
   "cell_type": "code",
   "execution_count": 7,
   "metadata": {},
   "outputs": [],
   "source": [
    "df.columns"
   ]
  },
  {
   "cell_type": "code",
   "execution_count": null,
   "metadata": {},
   "outputs": [],
   "source": [
    "import matplotlib.pyplot as plt\n",
    "import seaborn as sns\n",
    "\n",
    "# high retina\n",
    "%matplotlib inline\n",
    "%config InlineBackend.figure_format='retina'\n",
    "\n",
    "sns.set_theme(style=\"whitegrid\")\n",
    "\n",
    "# set default size\n",
    "plt.rcParams[\"figure.figsize\"] = [12, 5]"
   ]
  },
  {
   "cell_type": "code",
   "execution_count": null,
   "metadata": {},
   "outputs": [],
   "source": [
    "# create violin plot for wieght, height and bmi next to each other. make sure they are vertical\n",
    "\n",
    "\n",
    "# increae horizontal space between plots\n",
    "\n",
    "fig, axes = plt.subplots(1, 3)\n",
    "fig.subplots_adjust(wspace=0.5)\n",
    "\n",
    "sns.violinplot(y=df[\"weight\"], ax=axes[0], palette=\"muted\", inner=\"quartile\")\n",
    "axes[0].set_ylabel(\"Weight [kg]\")\n",
    "\n",
    "sns.violinplot(y=df[\"height\"], ax=axes[1], palette=\"muted\", inner=\"quartile\")\n",
    "axes[1].set_ylabel(\"Height [cm]\")\n",
    "\n",
    "sns.violinplot(y=df[\"bmi\"], ax=axes[2], palette=\"muted\", inner=\"quartile\")\n",
    "axes[2].set_ylabel(\"BMI\")\n",
    "\n",
    "plt.show()"
   ]
  }
 ],
 "metadata": {
  "kernelspec": {
   "display_name": ".venv",
   "language": "python",
   "name": "python3"
  },
  "language_info": {
   "codemirror_mode": {
    "name": "ipython",
    "version": 3
   },
   "file_extension": ".py",
   "mimetype": "text/x-python",
   "name": "python",
   "nbconvert_exporter": "python",
   "pygments_lexer": "ipython3",
   "version": "3.12.5"
  }
 },
 "nbformat": 4,
 "nbformat_minor": 2
}
